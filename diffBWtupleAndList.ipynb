{
 "cells": [
  {
   "cell_type": "markdown",
   "metadata": {},
   "source": [
    "# Difference b/w Data Structures of Python <br>(particularly : a TUPLE and a LIST)\n",
    "\n",
    "### as understood by Madhav S. Sharma under the able guidance of Abhishek Sharma."
   ]
  },
  {
   "cell_type": "markdown",
   "metadata": {},
   "source": [
    "In Python tuples are _very similar_ to lists, however, unlike lists they are __IMMUTABLE__ meaning...(u know what that means). I would use (from now onwards) tuples to present things that shouldn't be changed, such as days of the week, or dates on a calendar.<br><br>\n",
    "\n",
    "### _GIST: LISTS(minus)MUTABILITY = TUPLES_<br>\n",
    "\n",
    "A tuple is typically used specifically because of its property of _rigidity_.\n",
    "Another popular use for this according to me might be sequence unpacking, where we want to store returned data to some specified variables. (I'll give an example don't worry!)<br>\n",
    "\n",
    "Only in-built methods supported by a Tuple are:\n",
    " - *__count__*\n",
    " - *__index__*\n",
    "\n",
    "Here are some follow-up code examples to better understand this _silly yet important(in the future) concept_<br>"
   ]
  },
  {
   "cell_type": "code",
   "execution_count": 2,
   "metadata": {},
   "outputs": [],
   "source": [
    "# Creating a tuple\n",
    "abhiTuple = (7,8,4, 'sup?') #yes, we can mix object types in a tuple."
   ]
  },
  {
   "cell_type": "code",
   "execution_count": 7,
   "metadata": {},
   "outputs": [
    {
     "data": {
      "text/plain": [
       "'sup?'"
      ]
     },
     "execution_count": 7,
     "metadata": {},
     "output_type": "execute_result"
    }
   ],
   "source": [
    "abhiTuple[3] "
   ]
  },
  {
   "cell_type": "code",
   "execution_count": 8,
   "metadata": {},
   "outputs": [
    {
     "data": {
      "text/plain": [
       "(8, 4, 'sup?')"
      ]
     },
     "execution_count": 8,
     "metadata": {},
     "output_type": "execute_result"
    }
   ],
   "source": [
    "abhiTuple[1:] #methods like indexing and slicing [and reversing which in fact is a specail instance of slicing in which we do...lemme show you next!]"
   ]
  },
  {
   "cell_type": "code",
   "execution_count": 10,
   "metadata": {},
   "outputs": [
    {
     "data": {
      "text/plain": [
       "('sup?', 4, 8, 7)"
      ]
     },
     "execution_count": 10,
     "metadata": {},
     "output_type": "execute_result"
    }
   ],
   "source": [
    "abhiTuple[::-1] #and VOILA! tuple reversed, just like a list would be, but here comes the big difference!"
   ]
  },
  {
   "cell_type": "markdown",
   "metadata": {},
   "source": [
    "### An example of a situation where using a TUPLE helps us in  preserving integrity of data..."
   ]
  },
  {
   "cell_type": "code",
   "execution_count": 15,
   "metadata": {},
   "outputs": [
    {
     "name": "stdout",
     "output_type": "stream",
     "text": [
      "37 73\n"
     ]
    }
   ],
   "source": [
    "def example():\n",
    "    return 37, 73\n",
    "\n",
    "x, y = example()\n",
    "print(x,y)\n",
    "\n",
    "# in the above case, we have used a tuple and cannot modify it... and\n",
    "# we definitely do not want to!"
   ]
  },
  {
   "cell_type": "markdown",
   "metadata": {},
   "source": [
    "### The return of the IMMUTABLE!\n",
    "It can't be stressed enough that tuples are immutable. This is the crucial point my niBBa's<br> To drive that point home:"
   ]
  },
  {
   "cell_type": "code",
   "execution_count": 12,
   "metadata": {},
   "outputs": [
    {
     "ename": "TypeError",
     "evalue": "'tuple' object does not support item assignment",
     "output_type": "error",
     "traceback": [
      "\u001b[1;31m---------------------------------------------------------------------------\u001b[0m",
      "\u001b[1;31mTypeError\u001b[0m                                 Traceback (most recent call last)",
      "\u001b[1;32m<ipython-input-12-6142cafc6359>\u001b[0m in \u001b[0;36m<module>\u001b[1;34m\u001b[0m\n\u001b[0;32m      4\u001b[0m \u001b[1;31m#RESULT: an error (as expected, what more harm could it have done to you ?)\u001b[0m\u001b[1;33m\u001b[0m\u001b[1;33m\u001b[0m\u001b[1;33m\u001b[0m\u001b[0m\n\u001b[0;32m      5\u001b[0m \u001b[1;33m\u001b[0m\u001b[0m\n\u001b[1;32m----> 6\u001b[1;33m \u001b[0mabhiTuple\u001b[0m\u001b[1;33m[\u001b[0m\u001b[1;36m1\u001b[0m\u001b[1;33m]\u001b[0m \u001b[1;33m=\u001b[0m \u001b[1;34m\"itWon'tChange\"\u001b[0m\u001b[1;33m\u001b[0m\u001b[1;33m\u001b[0m\u001b[0m\n\u001b[0m",
      "\u001b[1;31mTypeError\u001b[0m: 'tuple' object does not support item assignment"
     ]
    }
   ],
   "source": [
    "\n",
    "#INTENTION: To change an element of the tuple \"abhiTuple\" after it has been declared.\n",
    "#TOPROVE: IMMUTABILITY of a \"smol\" tuple\n",
    "#RESULT: an error (as expected, what more harm could it have done to you ?)\n",
    "\n",
    "abhiTuple[1] = \"itWon'tChange\""
   ]
  },
  {
   "cell_type": "markdown",
   "metadata": {},
   "source": [
    "*givin' the __i told you so look!!!!__*\n",
    "~~~~\n",
    "---------------------------------------------------------------------------\n",
    "TypeError                                 Traceback (most recent call last)\n",
    "<ipython-input-11-ead465e977f2> in <module>\n",
    "      4 RESULT: an error (as expected, what more harm could it have done to you ?)\n",
    "      5 '''\n",
    "----> 6 abhiTuple[1] = \"itWon'tChange\"\n",
    "\n",
    "TypeError: 'tuple' object does not support item assignment\n",
    "~~~~\n"
   ]
  },
  {
   "cell_type": "markdown",
   "metadata": {},
   "source": [
    "It is because of this immutability, that __tuples can't grow__(*like puberty struck 13 y'olds*).<br> <br>Once a tuple is made we can not add (*or in gentlemanly terms: __append anything__*) to it."
   ]
  },
  {
   "cell_type": "code",
   "execution_count": 13,
   "metadata": {},
   "outputs": [
    {
     "ename": "AttributeError",
     "evalue": "'tuple' object has no attribute 'append'",
     "output_type": "error",
     "traceback": [
      "\u001b[1;31m---------------------------------------------------------------------------\u001b[0m",
      "\u001b[1;31mAttributeError\u001b[0m                            Traceback (most recent call last)",
      "\u001b[1;32m<ipython-input-13-c4375e51a4a9>\u001b[0m in \u001b[0;36m<module>\u001b[1;34m\u001b[0m\n\u001b[0;32m      3\u001b[0m \u001b[1;31m#RESULT: an error (as expected, what more harm could it have done to you ?)\u001b[0m\u001b[1;33m\u001b[0m\u001b[1;33m\u001b[0m\u001b[1;33m\u001b[0m\u001b[0m\n\u001b[0;32m      4\u001b[0m \u001b[1;33m\u001b[0m\u001b[0m\n\u001b[1;32m----> 5\u001b[1;33m \u001b[0mabhiTuple\u001b[0m\u001b[1;33m.\u001b[0m\u001b[0mappend\u001b[0m\u001b[1;33m(\u001b[0m\u001b[1;34m\"giveUp Human, itWon'tChangeStill!\"\u001b[0m\u001b[1;33m)\u001b[0m\u001b[1;33m\u001b[0m\u001b[1;33m\u001b[0m\u001b[0m\n\u001b[0m",
      "\u001b[1;31mAttributeError\u001b[0m: 'tuple' object has no attribute 'append'"
     ]
    }
   ],
   "source": [
    "#INTENTION: To append an element to the tuple \"abhiTuple\" after it has been declared.\n",
    "#TOPROVE: IMMUTABILITY of a \"smol\" tuple\n",
    "#RESULT: an error (as expected, what more harm could it have done to you ?)\n",
    "\n",
    "abhiTuple.append(\"giveUp Human, itWon'tChangeStill!\")"
   ]
  },
  {
   "cell_type": "markdown",
   "metadata": {},
   "source": [
    "*givin' the __i told you so look again!!!!__*\n",
    "~~~~\n",
    "-------------------------------------------------------------------\n",
    "AttributeError                            Traceback (most recent call last)\n",
    "<ipython-input-13-c4375e51a4a9> in <module>\n",
    "      3 #RESULT: an error (as expected, what more harm could it have done to you ?)\n",
    "      4 \n",
    "----> 5 abhiTuple.append(\"giveUp Human, itWon'tChangeStill!\")\n",
    "\n",
    "AttributeError: 'tuple' object has no attribute 'append'\n",
    "\n",
    "~~~~\n"
   ]
  },
  {
   "cell_type": "markdown",
   "metadata": {},
   "source": [
    "## So, When to use Tuples 🤔\n",
    "<br>\n",
    "Telepathy On: The questions on your mind are...\n",
    "\n",
    "> * \"Why bother using tuples when they have fewer available methods?\" \n",
    "> * \"Why use them at all ?\"\n",
    "\n",
    "Answer: To be honest, tuples are not used as often as lists in programming, but are used when immutability is necessary. If in your program you are passing around an object and need to make sure it does not get changed, then a tuple becomes your solution. It provides a convenient source of data integrity.<br>\n",
    "\n",
    "Remember the keyWord here: __DATA INTEGRITY__"
   ]
  },
  {
   "cell_type": "markdown",
   "metadata": {},
   "source": [
    "#### @author: [PseudoCodeNerd](http://github.com/PseudoCodeNerd)\n",
    "_Madhav S. Sharma_"
   ]
  },
  {
   "cell_type": "markdown",
   "metadata": {},
   "source": []
  }
 ],
 "metadata": {
  "kernelspec": {
   "display_name": "Python 3",
   "language": "python",
   "name": "python3"
  },
  "language_info": {
   "codemirror_mode": {
    "name": "ipython",
    "version": 3
   },
   "file_extension": ".py",
   "mimetype": "text/x-python",
   "name": "python",
   "nbconvert_exporter": "python",
   "pygments_lexer": "ipython3",
   "version": "3.7.1"
  }
 },
 "nbformat": 4,
 "nbformat_minor": 2
}
