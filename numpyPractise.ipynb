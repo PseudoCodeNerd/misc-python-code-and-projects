{
  "nbformat": 4,
  "nbformat_minor": 0,
  "metadata": {
    "colab": {
      "name": "numpyPractise.ipynb",
      "provenance": [],
      "include_colab_link": true
    },
    "kernelspec": {
      "name": "python3",
      "display_name": "Python 3"
    }
  },
  "cells": [
    {
      "cell_type": "markdown",
      "metadata": {
        "id": "view-in-github",
        "colab_type": "text"
      },
      "source": [
        "<a href=\"https://colab.research.google.com/github/PseudoCodeNerd/misc-python-code-and-projects/blob/master/numpyPractise.ipynb\" target=\"_parent\"><img src=\"https://colab.research.google.com/assets/colab-badge.svg\" alt=\"Open In Colab\"/></a>"
      ]
    },
    {
      "cell_type": "markdown",
      "metadata": {
        "id": "yp031bQBoPTk",
        "colab_type": "text"
      },
      "source": [
        "# Practising NumPy \n",
        "[Link to NumPy documentation](https://docs.scipy.org/doc/numpy/reference/) (keep this under your pillow)\n",
        "\n",
        "Problems sourced from [GitHub](https://github.com/rougier/numpy-100), [this](https://www.labri.fr/perso/nrougier/from-python-to-numpy/) and finally [this.](https://www.machinelearningplus.com/python/101-numpy-exercises-python/)"
      ]
    },
    {
      "cell_type": "code",
      "metadata": {
        "id": "tAcqOrvIoNVm",
        "colab_type": "code",
        "colab": {}
      },
      "source": [
        ""
      ],
      "execution_count": 0,
      "outputs": []
    }
  ]
}